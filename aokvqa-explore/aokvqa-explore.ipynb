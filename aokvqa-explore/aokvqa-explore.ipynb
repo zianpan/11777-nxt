{
 "cells": [
  {
   "cell_type": "code",
   "execution_count": 1,
   "metadata": {},
   "outputs": [
    {
     "name": "stderr",
     "output_type": "stream",
     "text": [
      "/opt/conda/lib/python3.12/site-packages/tqdm/auto.py:21: TqdmWarning: IProgress not found. Please update jupyter and ipywidgets. See https://ipywidgets.readthedocs.io/en/stable/user_install.html\n",
      "  from .autonotebook import tqdm as notebook_tqdm\n"
     ]
    }
   ],
   "source": [
    "import json\n",
    "import numpy as np\n",
    "import matplotlib.pyplot as plt\n",
    "from MMObject.utls import *"
   ]
  },
  {
   "cell_type": "code",
   "execution_count": 8,
   "metadata": {},
   "outputs": [],
   "source": [
    "val_aokvqa, coco_val_caption, coco_id_filename = prepare_dataset(split = \"val\")"
   ]
  },
  {
   "cell_type": "code",
   "execution_count": 3,
   "metadata": {},
   "outputs": [
    {
     "data": {
      "text/plain": [
       "{'split': 'val',\n",
       " 'image_id': 461751,\n",
       " 'question_id': '22jbM6gDxdaMaunuzgrsBB',\n",
       " 'question': \"What is in the motorcyclist's mouth?\",\n",
       " 'choices': ['toothpick', 'food', 'popsicle stick', 'cigarette'],\n",
       " 'correct_choice_idx': 3,\n",
       " 'direct_answers': ['cigarette',\n",
       "  'cigarette',\n",
       "  'cigarette',\n",
       "  'cigarette',\n",
       "  'cigarette',\n",
       "  'cigarette',\n",
       "  'cigarette',\n",
       "  'cigarette',\n",
       "  'cigarette',\n",
       "  'cigarette'],\n",
       " 'difficult_direct_answer': False,\n",
       " 'rationales': [\"He's smoking while riding.\",\n",
       "  'The motorcyclist has a lit cigarette in his mouth while he rides on the street.',\n",
       "  'The man is smoking.']}"
      ]
     },
     "execution_count": 3,
     "metadata": {},
     "output_type": "execute_result"
    }
   ],
   "source": [
    "val_aokvqa[0]"
   ]
  },
  {
   "cell_type": "code",
   "execution_count": 4,
   "metadata": {},
   "outputs": [],
   "source": [
    "difficult_questions = []\n",
    "for case in val_aokvqa:\n",
    "    if case['difficult_direct_answer']:\n",
    "        difficult_questions.append(case)\n",
    "\n"
   ]
  },
  {
   "cell_type": "code",
   "execution_count": 6,
   "metadata": {},
   "outputs": [
    {
     "data": {
      "text/plain": [
       "70"
      ]
     },
     "execution_count": 6,
     "metadata": {},
     "output_type": "execute_result"
    }
   ],
   "source": [
    "len(difficult_questions)"
   ]
  },
  {
   "cell_type": "code",
   "execution_count": null,
   "metadata": {},
   "outputs": [],
   "source": []
  }
 ],
 "metadata": {
  "kernelspec": {
   "display_name": "base",
   "language": "python",
   "name": "python3"
  },
  "language_info": {
   "codemirror_mode": {
    "name": "ipython",
    "version": 3
   },
   "file_extension": ".py",
   "mimetype": "text/x-python",
   "name": "python",
   "nbconvert_exporter": "python",
   "pygments_lexer": "ipython3",
   "version": "3.12.6"
  }
 },
 "nbformat": 4,
 "nbformat_minor": 2
}
