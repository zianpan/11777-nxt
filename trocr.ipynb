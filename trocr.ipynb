{
 "cells": [
  {
   "cell_type": "code",
   "execution_count": 4,
   "metadata": {},
   "outputs": [],
   "source": [
    "from transformers import TrOCRProcessor, VisionEncoderDecoderModel\n",
    "from transformers import DonutProcessor, VisionEncoderDecoderModel\n",
    "from PIL import Image\n",
    "import requests\n",
    "import torch\n",
    "from MMObject.utls import *\n"
   ]
  },
  {
   "cell_type": "code",
   "execution_count": 5,
   "metadata": {},
   "outputs": [],
   "source": [
    "# # processor = TrOCRProcessor.from_pretrained(\"microsoft/trocr-base-handwritten\")\n",
    "# # model = VisionEncoderDecoderModel.from_pretrained(\"microsoft/trocr-base-handwritten\")\n",
    "# from transformers import AutoProcessor, VisionEncoderDecoderModel\n",
    "# from PIL import Image\n",
    "# import requests\n",
    "# import torch\n",
    "\n",
    "# # Use the general AutoProcessor to load Donut's processor\n",
    "# model_name = \"naver-clova-ix/donut-base\"\n",
    "# processor = AutoProcessor.from_pretrained(model_name)\n",
    "# model = VisionEncoderDecoderModel.from_pretrained(model_name)\n",
    "# # model = VisionEncoderDecoderModel.from_pretrained(model_name)\n",
    "# model.eval() \n",
    "from transformers import AutoModel, AutoTokenizer\n",
    "\n",
    "tokenizer = AutoTokenizer.from_pretrained('ucaslcl/GOT-OCR2_0', trust_remote_code=True)\n",
    "model = AutoModel.from_pretrained('ucaslcl/GOT-OCR2_0', trust_remote_code=True, low_cpu_mem_usage=True, device_map='cuda', use_safetensors=True, pad_token_id=tokenizer.eos_token_id)\n",
    "model = model.eval().cuda()\n",
    "\n",
    "\n",
    "split = \"test\"\n",
    "\n",
    "path_dict = {\"val\":\"/home/ubuntu/data/coco/val2017/\",\n",
    "             \"test\":\"/home/ubuntu/data/coco/test2017/\",\n",
    "             \"train\":\"/home/ubuntu/data/coco/train2017/\"}\n",
    "\n",
    "val_aokvqa, coco_val_caption, coco_id_filename = prepare_dataset(split = split)\n",
    "\n",
    "ocr_res = {}\n",
    "for i in trange(len(val_aokvqa)):\n",
    "    case = val_aokvqa[i]\n",
    "    img_id = case['image_id']\n",
    "    base_path = path_dict[split]\n",
    "    img_file = coco_id_filename[img_id]\n",
    "    img_path = base_path + img_file  \n",
    "    res = model.chat(tokenizer, img_path, ocr_type='ocr')\n",
    "    ocr_res[img_id] = res\n"
   ]
  },
  {
   "cell_type": "code",
   "execution_count": 29,
   "metadata": {},
   "outputs": [],
   "source": [
    "# save the json file\n",
    "ocr_res_path = f\"/home/ubuntu/data/aokvqa/ocr_res_{split}.json\"\n",
    "with open(ocr_res_path, 'w') as f:\n",
    "    json.dump(ocr_res, f)"
   ]
  },
  {
   "cell_type": "code",
   "execution_count": 9,
   "metadata": {},
   "outputs": [
    {
     "name": "stdout",
     "output_type": "stream",
     "text": [
      "Recognized Text: 0 1\n"
     ]
    }
   ],
   "source": [
    "# pixel_values = processor(images=image, return_tensors=\"pt\").pixel_values\n",
    "\n",
    "# # Generate predictions\n",
    "# with torch.no_grad():\n",
    "#     generated_ids = model.generate(pixel_values)\n",
    "\n",
    "# # Decode the generated text\n",
    "# generated_text = processor.batch_decode(generated_ids, skip_special_tokens=True)[0]\n",
    "\n",
    "# # Output the recognized text\n",
    "# print(\"Recognized Text:\", generated_text)"
   ]
  },
  {
   "cell_type": "code",
   "execution_count": 1,
   "metadata": {},
   "outputs": [],
   "source": [
    "import re"
   ]
  },
  {
   "cell_type": "code",
   "execution_count": 2,
   "metadata": {},
   "outputs": [],
   "source": [
    "text = \"\"\"<|begin_of_text|><|start_header_id|>user<|end_header_id|>\n",
    "\n",
    "<|image|>\n",
    "You task is to select one of the four following options based on the image and the question. Specifically, you need to output 0 or 1 or 2 or 3 as well as rationales of why you chose that option.\n",
    "The rationales should also include in curly braces the answer to the question.\n",
    "\n",
    "Here are some examples that you can follow:\n",
    "Question: What is in the motorcyclist's mouth?\n",
    "Choices: 0. toothpick 1. food 2. popsicle stick 3. cigarette\n",
    "Rationale: Looking at the picture, we can see a man with white shirt riding a motorcycle. Now as we find the motorcyclist in the question, we can see that he has a cigarette in his mouth.\n",
    "\n",
    "Question: Which number birthday is probably being celebrated?\n",
    "Choices: 0. one 1. ten 2. nine 3. thirty\n",
    "Rationale: From the question, we know that someone is celebrating for the birthday. Looking at the picture, we can see two things on the table top. One is a grey bear which is likely to be a cake, the other is a cake with several candles on it. By looking at the purple cake, we can see it writes number thirty on it.\n",
    "\n",
    "Question: What best describes the pool of water?\n",
    "Choices: 0. frozen 1. fresh 2. dirty 3. boiling\n",
    "Rationale: Looking at the picture, we can see a tree in the middle. Behind the tree, we can see several giraffes. On the bottom of the picture, we can see a pool of water. This refers to the pool mentioned in the question. The pool is dark brown and it is brown and surrounded with mud. So the pool is dirty.\n",
    "\n",
    "Now, it's your turn. Again, remember to put your answer in curly braces. Here is the question you need to answer.\n",
    "Here is the OCR result of the image. You can refer to this information to answer the question. Remember the OCR result is not always accurate.\n",
    "       \n",
    " OCR result: COUNTRY\n",
    " Now, here is the question you need to answer.\n",
    "    Question: What type of event might this be?\n",
    "Choices: 0. art show 1. car show 2. museum opening 3. race\n",
    "Now Please answer the following question based on the image and the OCR result. You should first output Rational and then the answer.\n",
    " Now, please output the rational step by step.\n",
    " Rational:The image shows a car covered in various objects, including what appears to be a doll's head, a toothbrush, and a box of cereal. The car is parked in a crowded area, with people milling about in the background. The presence of the doll's head and the other objects on the car suggests that this may be some kind of art installation or a display of unusual items.\n",
    "\n",
    "Given the context of the image, it is likely that this is a car show, where people showcase their unique or decorated vehicles. The fact that the car is covered in a variety of objects and the crowd in the background suggests an event where people are gathered to admire and appreciate these vehicles.\n",
    "\n",
    "Therefore, the answer is:\n",
    "\n",
    "1. car show<|eot_id|>\n",
    " Now, please output the answer using 0 or 1 or 2 or 3.<|eot_id|><|start_header_id|>assistant<|end_header_id|>\n",
    "\n",
    "1<|eot_id|>\"\"\""
   ]
  },
  {
   "cell_type": "code",
   "execution_count": 4,
   "metadata": {},
   "outputs": [
    {
     "name": "stdout",
     "output_type": "stream",
     "text": [
      "\n",
      "\n",
      "\n",
      "You task is to select one of the four following options based on the image and the question. Specifically, you need to output 0 or 1 or 2 or 3 as well as rationales of why you chose that option.\n",
      "The rationales should also include in curly braces the answer to the question.\n",
      "\n",
      "Here are some examples that you can follow:\n",
      "Question: What is in the motorcyclist's mouth?\n",
      "Choices: 0. toothpick 1. food 2. popsicle stick 3. cigarette\n",
      "Rationale: Looking at the picture, we can see a man with white shirt riding a motorcycle. Now as we find the motorcyclist in the question, we can see that he has a cigarette in his mouth.\n",
      "\n",
      "Question: Which number birthday is probably being celebrated?\n",
      "Choices: 0. one 1. ten 2. nine 3. thirty\n",
      "Rationale: From the question, we know that someone is celebrating for the birthday. Looking at the picture, we can see two things on the table top. One is a grey bear which is likely to be a cake, the other is a cake with several candles on it. By looking at the purple cake, we can see it writes number thirty on it.\n",
      "\n",
      "Question: What best describes the pool of water?\n",
      "Choices: 0. frozen 1. fresh 2. dirty 3. boiling\n",
      "Rationale: Looking at the picture, we can see a tree in the middle. Behind the tree, we can see several giraffes. On the bottom of the picture, we can see a pool of water. This refers to the pool mentioned in the question. The pool is dark brown and it is brown and surrounded with mud. So the pool is dirty.\n",
      "\n",
      "Now, it's your turn. Again, remember to put your answer in curly braces. Here is the question you need to answer.\n",
      "Here is the OCR result of the image. You can refer to this information to answer the question. Remember the OCR result is not always accurate.\n",
      "       \n",
      " OCR result: COUNTRY\n",
      " Now, here is the question you need to answer.\n",
      "    Question: What type of event might this be?\n",
      "Choices: 0. art show 1. car show 2. museum opening 3. race\n",
      "Now Please answer the following question based on the image and the OCR result. You should first output Rational and then the answer.\n",
      " Now, please output the rational step by step.\n",
      " Rational:The image shows a car covered in various objects, including what appears to be a doll's head, a toothbrush, and a box of cereal. The car is parked in a crowded area, with people milling about in the background. The presence of the doll's head and the other objects on the car suggests that this may be some kind of art installation or a display of unusual items.\n",
      "\n",
      "Given the context of the image, it is likely that this is a car show, where people showcase their unique or decorated vehicles. The fact that the car is covered in a variety of objects and the crowd in the background suggests an event where people are gathered to admire and appreciate these vehicles.\n",
      "\n",
      "Therefore, the answer is:\n",
      "\n",
      "1. car show\n",
      " Now, please output the answer using 0 or 1 or 2 or 3.\n",
      "\n",
      "1\n"
     ]
    }
   ],
   "source": [
    "print(re.sub(r'<\\|.*\\|>', '', text))"
   ]
  },
  {
   "cell_type": "code",
   "execution_count": null,
   "metadata": {},
   "outputs": [],
   "source": []
  }
 ],
 "metadata": {
  "kernelspec": {
   "display_name": "base",
   "language": "python",
   "name": "python3"
  },
  "language_info": {
   "codemirror_mode": {
    "name": "ipython",
    "version": 3
   },
   "file_extension": ".py",
   "mimetype": "text/x-python",
   "name": "python",
   "nbconvert_exporter": "python",
   "pygments_lexer": "ipython3",
   "version": "3.12.6"
  }
 },
 "nbformat": 4,
 "nbformat_minor": 2
}
